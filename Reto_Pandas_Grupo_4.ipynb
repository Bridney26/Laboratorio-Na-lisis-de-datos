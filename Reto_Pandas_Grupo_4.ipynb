{
  "nbformat": 4,
  "nbformat_minor": 0,
  "metadata": {
    "colab": {
      "provenance": [],
      "authorship_tag": "ABX9TyPOdzS5VNzSmEA5+dHLjwYM",
      "include_colab_link": true
    },
    "kernelspec": {
      "name": "python3",
      "display_name": "Python 3"
    },
    "language_info": {
      "name": "python"
    }
  },
  "cells": [
    {
      "cell_type": "markdown",
      "metadata": {
        "id": "view-in-github",
        "colab_type": "text"
      },
      "source": [
        "<a href=\"https://colab.research.google.com/github/Bridney26/Laboratorio-analisis-de-datos/blob/main/Reto_Pandas_Grupo_4.ipynb\" target=\"_parent\"><img src=\"https://colab.research.google.com/assets/colab-badge.svg\" alt=\"Open In Colab\"/></a>"
      ]
    },
    {
      "cell_type": "code",
      "execution_count": 1,
      "metadata": {
        "colab": {
          "base_uri": "https://localhost:8080/"
        },
        "id": "PDJxFsfKdm-C",
        "outputId": "6c64f752-1a13-4b79-a4e7-e955419e9bb7"
      },
      "outputs": [
        {
          "output_type": "stream",
          "name": "stdout",
          "text": [
            "Index positions of 22 in Dataframe : \n",
            "(0, 'Seccion')\n",
            "(2, 'Seccion')\n",
            "(3, 'Seccion')\n"
          ]
        }
      ],
      "source": [
        "import pandas as pd\n",
        "\n",
        "students = [('Ana', 23, 'San José', 'A'),\n",
        "('Esteban', 22, 'Heredia', 'B'),\n",
        "('Juan', 23, 'Cartago', 'A'),\n",
        "('Karla', 22, 'Limón', 'A'),\n",
        "('Ernesto', 21, 'Heredia', 'B')]\n",
        "\n",
        "df = pd.DataFrame(students, columns = ['Nombre', 'Edad', 'Ciudad', 'Seccion'])\n",
        "\n",
        "def getIndexes(dfObj, value):\n",
        "  listOfPos = []\n",
        "  result = dfObj.isin([value])\n",
        "  seriesObj = result.any()\n",
        "  columnNames = list(seriesObj[seriesObj == True].index)\n",
        "\n",
        "  for col in columnNames:\n",
        "    rows = list(result[col][result[col] == True].index)\n",
        "\n",
        "    for row in rows:\n",
        "      listOfPos.append((row, col))\n",
        "\n",
        "  return listOfPos\n",
        "\n",
        "listOfPos = getIndexes(df, 'A')\n",
        "\n",
        "print('Index positions of 22 in Dataframe : ')\n",
        "\n",
        "for i in range(len(listOfPos)):\n",
        "  print(listOfPos[i])"
      ]
    },
    {
      "cell_type": "markdown",
      "source": [
        "Reto: Equipo 4 Como elemento a buscar dentro del dataFrame del proyecto, buscaremos sobre los métodos de suicidio en general y su efectividad. Otros elementos a evaluar en el futuro pueden ser: edad, ocupación, escolaridad, fecha, etc."
      ],
      "metadata": {
        "id": "FqWnxmi3doOG"
      }
    }
  ]
}