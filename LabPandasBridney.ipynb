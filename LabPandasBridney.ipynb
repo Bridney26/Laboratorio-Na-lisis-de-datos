{
  "nbformat": 4,
  "nbformat_minor": 0,
  "metadata": {
    "colab": {
      "provenance": [],
      "authorship_tag": "ABX9TyNdLsJeuzeW1F0OUV+yCr+H",
      "include_colab_link": true
    },
    "kernelspec": {
      "name": "python3",
      "display_name": "Python 3"
    },
    "language_info": {
      "name": "python"
    }
  },
  "cells": [
    {
      "cell_type": "markdown",
      "metadata": {
        "id": "view-in-github",
        "colab_type": "text"
      },
      "source": [
        "<a href=\"https://colab.research.google.com/github/Bridney26/Laboratorio-analisis-de-datos/blob/main/LabPandasBridney.ipynb\" target=\"_parent\"><img src=\"https://colab.research.google.com/assets/colab-badge.svg\" alt=\"Open In Colab\"/></a>"
      ]
    },
    {
      "cell_type": "code",
      "execution_count": null,
      "metadata": {
        "colab": {
          "base_uri": "https://localhost:8080/"
        },
        "id": "HDMZ_n2kVbMs",
        "outputId": "1f0a600d-5096-4417-958b-2e98878d712f"
      },
      "outputs": [
        {
          "output_type": "stream",
          "name": "stdout",
          "text": [
            "      Country    Capital  Population\n",
            "0  Costa Rica   San José     4500000\n",
            "1       India  New Delhi  1303171035\n",
            "2      Brazil   Brasilia   207847528\n"
          ]
        }
      ],
      "source": [
        "import pandas as pd\n",
        "data= {'Country': ['Costa Rica', 'India', 'Brazil'],\n",
        "       'Capital': ['San José', 'New Delhi', 'Brasilia'], \n",
        "       'Population': [4500000, 1303171035, 207847528]}\n",
        "df=pd.DataFrame (data, columns=['Country','Capital','Population' ])\n",
        "print(df)"
      ]
    },
    {
      "cell_type": "code",
      "source": [
        "print(\"Promedio de elementos del vector\")\n",
        "Suma=0\n",
        "Media=0\n",
        "Temp= []\n",
        "print(\"Ingrese cantidad de Temperaturas\")\n",
        "N=int(input())\n",
        "\n",
        "for i in range(N):\n",
        "  temperatura=float(input(\"Ingrese la temperatura: \"))\n",
        "  Temp.append(temperatura)\n",
        "  Suma=Suma+Temp[i]\n",
        "Media=Suma/N\n",
        "print(Media)"
      ],
      "metadata": {
        "colab": {
          "base_uri": "https://localhost:8080/"
        },
        "id": "o4katdB_YJYV",
        "outputId": "6cd59274-393c-49c8-b2ed-64dee63c18bb"
      },
      "execution_count": null,
      "outputs": [
        {
          "output_type": "stream",
          "name": "stdout",
          "text": [
            "Promedio de elementos del vector\n",
            "Ingrese cantidad de Temperaturas\n",
            "2\n",
            "Ingrese la temperatura: 67\n",
            "Ingrese la temperatura: 20\n",
            "43.5\n"
          ]
        }
      ]
    },
    {
      "cell_type": "code",
      "source": [],
      "metadata": {
        "id": "9_QHy9jCZy93"
      },
      "execution_count": null,
      "outputs": []
    },
    {
      "cell_type": "code",
      "source": [
        "import pandas as pd\n",
        "\n",
        "mascota= pd.DataFrame(\n",
        "    data={\n",
        "        'name': ['Minino', 'Milo', 'Snoopy', 'Blanco', 'LittlePony'],\n",
        "        'type': ['gato', 'perro','perro','perro','caballo']\n",
        "        },\n",
        "        index= [71,42,11,98,42]\n",
        ")\n",
        "visitas= pd.DataFrame(\n",
        "    data={\n",
        "        'pet_id': [42,31,71,42,98,42],\n",
        "        'fecha': ['2019-03-15','2019-03-15','2019-04-15','2019-03-15','2019-03-15','2019-03-15'],\n",
        "        'costo': [2000, 5000, 1000, 5000, 6000, 10000]      \n",
        "    }\n",
        ")\n",
        "\n",
        "mascota.index.rename('pet_id', inplace=True)\n",
        "visitas.index.rename('visit_id', inplace=True)\n",
        "\n",
        "print(mascota.query('pet_id==71'))\n",
        "\n",
        "print(visitas['costo'].sum())\n",
        "print(visitas['costo'].min())\n",
        "print(visitas['costo'].max())\n",
        "\n",
        "print(visitas)\n",
        "\n",
        "print(visitas.sort_values(by='costo', ascending=False))\n",
        "\n",
        "tienda=pd.merge(mascota,visitas, how= 'cross')\n",
        "\n",
        "print(tienda)"
      ],
      "metadata": {
        "colab": {
          "base_uri": "https://localhost:8080/"
        },
        "id": "HeleLahwbVl6",
        "outputId": "b62eebb3-a8c3-4ee1-ee6a-a3fbb0c9097d"
      },
      "execution_count": null,
      "outputs": [
        {
          "output_type": "stream",
          "name": "stdout",
          "text": [
            "          name  type\n",
            "pet_id              \n",
            "71      Minino  gato\n",
            "29000\n",
            "1000\n",
            "10000\n",
            "          pet_id       fecha  costo\n",
            "visit_id                           \n",
            "0             42  2019-03-15   2000\n",
            "1             31  2019-03-15   5000\n",
            "2             71  2019-04-15   1000\n",
            "3             42  2019-03-15   5000\n",
            "4             98  2019-03-15   6000\n",
            "5             42  2019-03-15  10000\n",
            "          pet_id       fecha  costo\n",
            "visit_id                           \n",
            "5             42  2019-03-15  10000\n",
            "4             98  2019-03-15   6000\n",
            "1             31  2019-03-15   5000\n",
            "3             42  2019-03-15   5000\n",
            "0             42  2019-03-15   2000\n",
            "2             71  2019-04-15   1000\n",
            "          name     type  pet_id       fecha  costo\n",
            "0       Minino     gato      42  2019-03-15   2000\n",
            "1       Minino     gato      31  2019-03-15   5000\n",
            "2       Minino     gato      71  2019-04-15   1000\n",
            "3       Minino     gato      42  2019-03-15   5000\n",
            "4       Minino     gato      98  2019-03-15   6000\n",
            "5       Minino     gato      42  2019-03-15  10000\n",
            "6         Milo    perro      42  2019-03-15   2000\n",
            "7         Milo    perro      31  2019-03-15   5000\n",
            "8         Milo    perro      71  2019-04-15   1000\n",
            "9         Milo    perro      42  2019-03-15   5000\n",
            "10        Milo    perro      98  2019-03-15   6000\n",
            "11        Milo    perro      42  2019-03-15  10000\n",
            "12      Snoopy    perro      42  2019-03-15   2000\n",
            "13      Snoopy    perro      31  2019-03-15   5000\n",
            "14      Snoopy    perro      71  2019-04-15   1000\n",
            "15      Snoopy    perro      42  2019-03-15   5000\n",
            "16      Snoopy    perro      98  2019-03-15   6000\n",
            "17      Snoopy    perro      42  2019-03-15  10000\n",
            "18      Blanco    perro      42  2019-03-15   2000\n",
            "19      Blanco    perro      31  2019-03-15   5000\n",
            "20      Blanco    perro      71  2019-04-15   1000\n",
            "21      Blanco    perro      42  2019-03-15   5000\n",
            "22      Blanco    perro      98  2019-03-15   6000\n",
            "23      Blanco    perro      42  2019-03-15  10000\n",
            "24  LittlePony  caballo      42  2019-03-15   2000\n",
            "25  LittlePony  caballo      31  2019-03-15   5000\n",
            "26  LittlePony  caballo      71  2019-04-15   1000\n",
            "27  LittlePony  caballo      42  2019-03-15   5000\n",
            "28  LittlePony  caballo      98  2019-03-15   6000\n",
            "29  LittlePony  caballo      42  2019-03-15  10000\n"
          ]
        }
      ]
    },
    {
      "cell_type": "code",
      "source": [
        "import pandas as pd\n",
        "\n",
        "students = [('Ana', 23, 'San José', 'A'),\n",
        "('Esteban', 22, 'Heredia', 'B'),\n",
        "('Juan', 23, 'Cartago', 'A'),\n",
        "('Karla', 22, 'Limón', 'A'),\n",
        "('Ernesto', 21, 'Heredia', 'B')]\n",
        "\n",
        "df = pd.DataFrame(students, columns = ['Nombre', 'Edad', 'Ciudad', 'Seccion'])\n",
        "\n",
        "def getIndexes(dfObj, value):\n",
        "  listOfPos = []\n",
        "  result = dfObj.isin([value])\n",
        "  seriesObj = result.any()\n",
        "  columnNames = list(seriesObj[seriesObj == True].index)\n",
        "\n",
        "  for col in columnNames:\n",
        "    rows = list(result[col][result[col] == True].index)\n",
        "\n",
        "    for row in rows:\n",
        "      listOfPos.append((row, col))\n",
        "\n",
        "  return listOfPos\n",
        "\n",
        "listOfPos = getIndexes(df, 'A')\n",
        "\n",
        "print('Index positions of 22 in Dataframe : ')\n",
        "\n",
        "for i in range(len(listOfPos)):\n",
        "  print(listOfPos[i])\n"
      ],
      "metadata": {
        "colab": {
          "base_uri": "https://localhost:8080/"
        },
        "id": "YeGlC33Jj0gM",
        "outputId": "6c98e5c3-6459-477d-f99b-7a3de8111b6e"
      },
      "execution_count": null,
      "outputs": [
        {
          "output_type": "stream",
          "name": "stdout",
          "text": [
            "Index positions of 22 in Dataframe : \n",
            "(0, 'Seccion')\n",
            "(2, 'Seccion')\n",
            "(3, 'Seccion')\n"
          ]
        }
      ]
    },
    {
      "cell_type": "markdown",
      "source": [
        "Reto:\n",
        "Equipo 4\n",
        "Como elemento a buscar dentro del dataFrame del proyecto, buscaremos sobre los métodos de suicidio en general y su efectividad. Otros elementos a evaluar en el futuro pueden ser: edad, ocupación, escolaridad, fecha, etc."
      ],
      "metadata": {
        "id": "abpMAfVznSy-"
      }
    }
  ]
}