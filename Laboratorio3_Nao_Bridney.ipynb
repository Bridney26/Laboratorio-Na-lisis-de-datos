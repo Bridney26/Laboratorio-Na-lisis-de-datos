{
  "nbformat": 4,
  "nbformat_minor": 0,
  "metadata": {
    "colab": {
      "provenance": [],
      "authorship_tag": "ABX9TyO73WP1b5H48jtm7lS2b3Zq",
      "include_colab_link": true
    },
    "kernelspec": {
      "name": "python3",
      "display_name": "Python 3"
    },
    "language_info": {
      "name": "python"
    }
  },
  "cells": [
    {
      "cell_type": "markdown",
      "metadata": {
        "id": "view-in-github",
        "colab_type": "text"
      },
      "source": [
        "<a href=\"https://colab.research.google.com/github/Bridney26/Laboratorio-analisis-de-datos/blob/main/Laboratorio3_Nao_Bridney.ipynb\" target=\"_parent\"><img src=\"https://colab.research.google.com/assets/colab-badge.svg\" alt=\"Open In Colab\"/></a>"
      ]
    },
    {
      "cell_type": "code",
      "execution_count": null,
      "metadata": {
        "id": "Y1fMyVThcflD"
      },
      "outputs": [],
      "source": [
        "# -*- encoding: UTF-8 -*-\n",
        "\n",
        "\n",
        "\n",
        "import sys\n",
        "import math\n",
        "\n",
        "from naoqi import ALProxy\n",
        "import time\n",
        "\n",
        "def main(robotIP):\n",
        "    \n",
        "    try:\n",
        "        posturasProxy = ALProxy(\"ALRobotPosture\", robotIP, 65329)\n",
        "        tts = ALProxy(\"ALTextToSpeech\", \"127.0.0.1\", 65329)\n",
        "        motion_proxy = ALProxy(\"ALMotion\", robotIP, 65329)\n",
        "        posturasProxy.goToPosture(\"StandInit\", 2.0)\n",
        "        part = 'Hand'\n",
        "        body_names = motion_proxy.getBodyNames(part)\n",
        "        speed = float(0.1) \n",
        "\n",
        "        posturasProxy.goToPosture(\"StandInit\", 2.0)\n",
        "        \n",
        "        motion_proxy.moveInit()\n",
        "        motion_proxy.setAngles('LShoulderPitch',  -0.6, speed)\n",
        "        time.sleep(2)\n",
        "        posturasProxy.goToPosture(\"StandInit\", 2.0)\n",
        "    except Exception, e:\n",
        "    \n",
        "    posturasProxy.goToPosture(\"StandInit\", 2.0)\n",
        "\n",
        "\n",
        "if __name__ == \"__main__\":\n",
        "    robotIp = \"127.0.0.1\"\n",
        "    print \"Programacion movimiento de python\"\n",
        "    main(robotIp)\n",
        "\n",
        "\n",
        "\n",
        "        posturasProxy = ALProxy(\"ALRobotPosture\", robotIP, 65329)\n",
        "        motion_proxy = ALProxy(\"ALMotion\", robotIP, 65329)\n",
        "        posturasProxy.goToPosture(\"StandInit\", 2.0)\n",
        "        part = 'HeadYaw'\n",
        "        body_names = motion_proxy.getBodyNames(part)\n",
        "        speed = float(0.1) \n",
        "\n",
        "        posturasProxy.goToPosture(\"StandInit\", 2.0)\n",
        "        \n",
        "        motion_proxy.moveInit()\n",
        "        motion_proxy.setAngles('LShoulderPitch',  -0.6, speed)\n",
        "        time.sleep(2)\n",
        "        posturasProxy.goToPosture(\"StandInit\", 2.0)\n",
        "   \n",
        "  \n",
        "\n",
        "\n",
        "        posturasProxy = ALProxy(\"ALRobotPosture\", robotIP, 65329)\n",
        "        motion_proxy = ALProxy(\"ALMotion\", robotIP, 65329)\n",
        "        posturasProxy.goToPosture(\"StandInit\", 2.0)\n",
        "        part = 'ShoulderRoll'\n",
        "        body_names = motion_proxy.getBodyNames(part)\n",
        "        speed = float(0.1)\n",
        "        posturasProxy.goToPosture(\"StandInit\", 2.0)\n",
        "        \n",
        "        motion_proxy.moveInit()\n",
        "        motion_proxy.setAngles('LShoulderPitch',  -0.6, speed)\n",
        "        time.sleep(2)\n",
        "        posturasProxy.goToPosture(\"StandInit\", 2.0)\n",
        "    except Exception, e:\n",
        "       \n",
        "    \n",
        "    posturasProxy.goToPosture(\"StandInit\", 2.0)\n",
        "\n",
        "if __name__ == \"__main__\":\n",
        "    robotIp = \"127.0.0.1\"\n",
        "    print \"Programacion movimiento de python\"\n",
        "    main(robotIp)\n",
        "\n",
        "\n",
        "\n",
        "\n",
        "tts.say(\"Hola, Mundo!\")\n",
        "\n",
        "    \n",
        "\n",
        "\n"
      ]
    }
  ]
}