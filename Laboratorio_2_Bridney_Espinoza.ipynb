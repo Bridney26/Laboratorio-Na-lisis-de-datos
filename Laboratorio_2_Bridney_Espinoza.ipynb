{
  "nbformat": 4,
  "nbformat_minor": 0,
  "metadata": {
    "colab": {
      "provenance": [],
      "authorship_tag": "ABX9TyMS6PTmjRVMTDvUu6I5xBRU",
      "include_colab_link": true
    },
    "kernelspec": {
      "name": "python3",
      "display_name": "Python 3"
    },
    "language_info": {
      "name": "python"
    }
  },
  "cells": [
    {
      "cell_type": "markdown",
      "metadata": {
        "id": "view-in-github",
        "colab_type": "text"
      },
      "source": [
        "<a href=\"https://colab.research.google.com/github/Bridney26/Laboratorio-analisis-de-datos/blob/main/Laboratorio_2_Bridney_Espinoza.ipynb\" target=\"_parent\"><img src=\"https://colab.research.google.com/assets/colab-badge.svg\" alt=\"Open In Colab\"/></a>"
      ]
    },
    {
      "cell_type": "code",
      "execution_count": null,
      "metadata": {
        "colab": {
          "base_uri": "https://localhost:8080/"
        },
        "id": "lXhpiPYF3Lof",
        "outputId": "b734d228-d79c-40a4-f268-2d2c8f25d14f"
      },
      "outputs": [
        {
          "output_type": "stream",
          "name": "stdout",
          "text": [
            "________________________________________\n",
            "Ejemplo 2: IMPRIMIR EL MENOR DE DOS NUMEROS\n",
            "________________________________________\n",
            "Ingrese 2 números:\n",
            "Primer Número:2\n",
            "Segundo Número:3\n",
            "\n",
            "SALIDA:\n",
            "________________________________________\n",
            "el menor es: 2\n"
          ]
        }
      ],
      "source": [
        "#Decoración: Nombre del Algoritmo\n",
        "print(\"________________________________________\")\n",
        "print(\"Ejemplo 2: IMPRIMIR EL MENOR DE DOS NUMEROS\")\n",
        "print(\"________________________________________\")\n",
        "#Entradas\n",
        "print(\"Ingrese 2 números:\")\n",
        "x=int( input(\"Primer Número:\"))\n",
        "y=int( input(\"Segundo Número:\"))\n",
        "print(\"\\nSALIDA:\")\n",
        "print(\"________________________________________\")\n",
        "#NOTA: No olvidarsede las indentación\n",
        "if x > y:\n",
        "  print(\"el menor es:\",y)\n",
        "else:\n",
        "  print(\"el menor es:\",x)\n"
      ]
    },
    {
      "cell_type": "markdown",
      "source": [
        "&& = y = and //\n",
        "|| = ó = or"
      ],
      "metadata": {
        "id": "XFkdpyD38sSd"
      }
    },
    {
      "cell_type": "code",
      "source": [
        "switcher={1:\"Enero\", 2:\"Febrero\", 3:\"Marzo\", 4:\"Abril\", 5:\"Mayo\", 6:\"Junio\", 7:\"Julio\", 8:\"Agosto\", 9:\"Septiembre\", 10:\"Octubre\", 11: \"Noviembre\", 12:\"Diciembre\"}\n",
        "argument=int(input(\"Ingrese un numero:\"))\n",
        "nameMes=switcher.get(argument, \"Mes inválido\")\n",
        "print(nameMes)\n"
      ],
      "metadata": {
        "colab": {
          "base_uri": "https://localhost:8080/"
        },
        "id": "z9CU4epg65vt",
        "outputId": "2a056879-17a8-4a3e-d695-e87a4ab7b084"
      },
      "execution_count": null,
      "outputs": [
        {
          "output_type": "stream",
          "name": "stdout",
          "text": [
            "Ingrese un numero:5\n",
            "Mayo\n"
          ]
        }
      ]
    }
  ]
}