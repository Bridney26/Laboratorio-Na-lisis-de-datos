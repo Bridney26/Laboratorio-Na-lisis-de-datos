{
  "nbformat": 4,
  "nbformat_minor": 0,
  "metadata": {
    "colab": {
      "provenance": [],
      "authorship_tag": "ABX9TyNGdJLstmUXJQ2408J9oU6p",
      "include_colab_link": true
    },
    "kernelspec": {
      "name": "python3",
      "display_name": "Python 3"
    },
    "language_info": {
      "name": "python"
    }
  },
  "cells": [
    {
      "cell_type": "markdown",
      "metadata": {
        "id": "view-in-github",
        "colab_type": "text"
      },
      "source": [
        "<a href=\"https://colab.research.google.com/github/Bridney26/Laboratorio-analisis-de-datos/blob/main/Laboratorio_1_Bridney_Espinoza.ipynb\" target=\"_parent\"><img src=\"https://colab.research.google.com/assets/colab-badge.svg\" alt=\"Open In Colab\"/></a>"
      ]
    },
    {
      "cell_type": "code",
      "execution_count": null,
      "metadata": {
        "colab": {
          "base_uri": "https://localhost:8080/"
        },
        "id": "7BJXmgWNHT9l",
        "outputId": "0e80d324-a30c-4eca-823e-8d5f46aec110"
      },
      "outputs": [
        {
          "output_type": "stream",
          "name": "stdout",
          "text": [
            "Ejercicio #1 Calcular distancia\n",
            "Ingrese la velocidad y el tiempo de la unidad movil\n",
            "Ingrese la velocidad:6\n",
            "Ingrese el tiempo:3\n",
            "La distancia es:18.0\n"
          ]
        }
      ],
      "source": [
        "print(\"Ejercicio #1 Calcular distancia\")\n",
        "print(\"Ingrese la velocidad y el tiempo de la unidad movil\")\n",
        "v= float(input(\"Ingrese la velocidad:\"))\n",
        "t= float(input(\"Ingrese el tiempo:\"))\n",
        "print(\"La distancia es:\"+str(v*t))\n"
      ]
    },
    {
      "cell_type": "code",
      "source": [
        "print(\"Ejercicio #2 Promedio notas\")\n",
        "nota1= float(input(\"Ingrese la nota 1:\"))\n",
        "nota2= int(input(\"Ingrese la nota 2:\"))\n",
        "nota3= int(input(\"Ingrese la nota 3:\"))\n",
        "print(\"El promedio de las notas es:\"+str((nota1+nota2+nota3)/3))\n"
      ],
      "metadata": {
        "colab": {
          "base_uri": "https://localhost:8080/"
        },
        "id": "fh_hR51UJGJ-",
        "outputId": "e8817f96-605a-4e44-cd17-bd7e71761370"
      },
      "execution_count": null,
      "outputs": [
        {
          "output_type": "stream",
          "name": "stdout",
          "text": [
            "Ejercicio #2 Promedio notas\n",
            "Ingrese la nota 1:100\n",
            "Ingrese la nota 2:80\n",
            "Ingrese la nota 3:50\n",
            "El promedio de las notas es:76.66666666666667\n"
          ]
        }
      ]
    },
    {
      "cell_type": "code",
      "source": [
        "print(\"Ejercicio #3\")\n",
        "RC= int(input(\"Ingrese el número de respuestas correctas:\"))\n",
        "RI= int(input(\"Ingrese el número de respuestas incorrectas:\"))\n",
        "RB=int(input(\"Ingrese el número de respuestas en blanco:\"))\n",
        "resultado=RC*3+RI*-1\n",
        "print(\"Resultado=\"+str(resultado))\n",
        "\n"
      ],
      "metadata": {
        "colab": {
          "base_uri": "https://localhost:8080/"
        },
        "id": "RwhznKUTK29s",
        "outputId": "091294a7-26ac-460d-e35e-19c9d9716e9b"
      },
      "execution_count": null,
      "outputs": [
        {
          "output_type": "stream",
          "name": "stdout",
          "text": [
            "Ejercicio #3\n",
            "Ingrese el número de respuestas correctas:3\n",
            "Ingrese el número de respuestas incorrectas:2\n",
            "Ingrese el número de respuestas en blanco:1\n",
            "Resultado=7\n"
          ]
        }
      ]
    }
  ]
}