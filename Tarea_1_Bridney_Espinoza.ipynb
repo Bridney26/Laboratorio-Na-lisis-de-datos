{
  "cells": [
    {
      "cell_type": "markdown",
      "metadata": {
        "id": "view-in-github",
        "colab_type": "text"
      },
      "source": [
        "<a href=\"https://colab.research.google.com/github/Bridney26/Laboratorio-analisis-de-datos/blob/main/Tarea_1_Bridney_Espinoza.ipynb\" target=\"_parent\"><img src=\"https://colab.research.google.com/assets/colab-badge.svg\" alt=\"Open In Colab\"/></a>"
      ]
    },
    {
      "cell_type": "code",
      "execution_count": null,
      "metadata": {
        "colab": {
          "base_uri": "https://localhost:8080/"
        },
        "id": "y2vEsdZpet27",
        "outputId": "e72b86c2-a048-4506-a1f2-2c0da09ac84a"
      },
      "outputs": [
        {
          "name": "stdout",
          "output_type": "stream",
          "text": [
            "Ejercicio Bisiesto\n",
            "Ingrese el año: 2002\n",
            "El año no es Bisiesto\n"
          ]
        }
      ],
      "source": [
        "print(\"Ejercicio Bisiesto\")\n",
        "anio=int(input(\"Ingrese el año: \"))\n",
        "if(anio % 400 == 0) or (anio % 4 == 0) and (anio % 100 != 0):\n",
        "  print(\"El año es Bisiesto\")\n",
        "else:\n",
        "  print(\"El año no es Bisiesto\")"
      ]
    },
    {
      "cell_type": "code",
      "execution_count": null,
      "metadata": {
        "colab": {
          "base_uri": "https://localhost:8080/"
        },
        "id": "c0G9uA2PgjbK",
        "outputId": "48c21a7a-a457-4f7d-bef6-6d65fcfe1e6a"
      },
      "outputs": [
        {
          "name": "stdout",
          "output_type": "stream",
          "text": [
            "Ejercicio Switch\n",
            "Ingrese un número:2\n",
            "Febrero\n"
          ]
        }
      ],
      "source": [
        "print(\"Ejercicio Switch\")\n",
        "switcher={1:\"Enero\", 2:\"Febrero\", 3:\"Marzo\", 4:\"Abril\", 5:\"Mayo\", 6:\"Junio\", 7:\"Julio\", 8:\"Agosto\", 9:\"Septiembre\", 10:\"Octubre\", 11: \"Noviembre\", 12:\"Diciembre\"}\n",
        "argument=int(input(\"Ingrese un número:\"))\n",
        "nombreDeMes=switcher.get(argument, \"Mes inválido\")\n",
        "print(nombreDeMes)\n"
      ]
    },
    {
      "cell_type": "code",
      "execution_count": null,
      "metadata": {
        "colab": {
          "base_uri": "https://localhost:8080/"
        },
        "id": "42xZ0eoHh4U4",
        "outputId": "482c6666-746e-4c0a-d227-5545b6356326"
      },
      "outputs": [
        {
          "name": "stdout",
          "output_type": "stream",
          "text": [
            "Ejercicio ciclos \n",
            "Introduce el capital, el interés, y el tiempo apropiados\n",
            "Capital: 1000\n",
            "Interés: 10\n",
            "Tiempo en Annios: 20\n",
            "Monto 1100.0 Colones\n",
            "Monto 1210.0 Colones\n",
            "Monto 1331.0 Colones\n",
            "Monto 1464.1000000000001 Colones\n",
            "Monto 1610.5100000000002 Colones\n",
            "Monto 1771.5610000000004 Colones\n",
            "Monto 1948.7171000000005 Colones\n",
            "Monto 2143.5888100000006 Colones\n",
            "Monto 2357.9476910000008 Colones\n",
            "Monto 2593.742460100001 Colones\n",
            "Monto 2853.1167061100014 Colones\n",
            "Monto 3138.4283767210018 Colones\n",
            "Monto 3452.271214393102 Colones\n",
            "Monto 3797.4983358324125 Colones\n",
            "Monto 4177.248169415654 Colones\n",
            "Monto 4594.97298635722 Colones\n",
            "Monto 5054.470284992943 Colones\n",
            "Monto 5559.917313492238 Colones\n",
            "Monto 6115.909044841462 Colones\n",
            "Monto 6727.499949325608 Colones\n"
          ]
        }
      ],
      "source": [
        "print(\"Ejercicio ciclos \")\n",
        "#Creación de variables\n",
        "C=-1\n",
        "I=0\n",
        "M=0\n",
        "while(C<0) or (I<0) or (I>=100) or (M<=0):\n",
        "       print(\"Introduce el capital, el interés, y el tiempo apropiados\")\n",
        "       C=int(input(\"Capital: \"))\n",
        "       I=int(input(\"Interés: \"))\n",
        "       M=int(input(\"Tiempo en Annios: \"))\n",
        "for i in range (M):\n",
        "    C=C*(1+I/100)\n",
        "    print(\"Monto\", C, \"Colones\")\n"
      ]
    },
    {
      "cell_type": "code",
      "execution_count": null,
      "metadata": {
        "colab": {
          "background_save": true,
          "base_uri": "https://localhost:8080/"
        },
        "id": "IPeLaea1kYzn",
        "outputId": "b2c08a8b-d140-4628-e82f-4235100efe30"
      },
      "outputs": [
        {
          "name": "stdout",
          "output_type": "stream",
          "text": [
            "Ejercicio divisores \n",
            "Digite un número\n",
            "18\n",
            "6\n",
            "217\n"
          ]
        }
      ],
      "source": [
        "print(\"Ejercicio divisores \")\n",
        "print(\"Digite un número\")\n",
        "numero=int(input(\"Numero: \"))\n",
        "\n",
        "while numero>0:\n",
        "    Suma=0\n",
        "    for i in range(1, numero+1):\n",
        "         if(numero % i==0):\n",
        "            Suma=Suma + i\n",
        "    print(Suma)\n",
        "    numero=int(input(\"Numero: \"))"
      ]
    }
  ],
  "metadata": {
    "colab": {
      "provenance": [],
      "authorship_tag": "ABX9TyNXEflDNXO+C6W2WaSMmCRu",
      "include_colab_link": true
    },
    "kernelspec": {
      "display_name": "Python 3",
      "name": "python3"
    },
    "language_info": {
      "name": "python"
    }
  },
  "nbformat": 4,
  "nbformat_minor": 0
}